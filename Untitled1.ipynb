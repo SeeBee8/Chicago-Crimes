{
 "cells": [
  {
   "cell_type": "markdown",
   "id": "29845dac-bd78-40b1-b991-bbd4a3cdcbae",
   "metadata": {},
   "source": [
    "# Chicago Crime Data3Analysis \n",
    "####  Part21\n",
    "t*a\r\n",
    "Christina Brock*way"
   ]
  },
  {
   "cell_type": "markdown",
   "id": "667a9e9b-e9ea-45da-bb56-2cd6a41e10fe",
   "metadata": {},
   "source": [
    "use a prepared zip file with the Chicago Crime Data:\n",
    "https://drive.google.com/file/d/1avxUlCAros-R9GF6SKXqM_GopzO7VwA5/view?usp=drive_link\n",
    "\n",
    "**Original Source is the Chicago Data Portal: Crimes 2001 to Present**"
   ]
  },
  {
   "cell_type": "markdown",
   "id": "dd9c92a4-821d-4139-8d1f-2e77f3d90486",
   "metadata": {},
   "source": [
    "**Data Description**\n",
    "https://data.cityofchicago.org/Public-Safety/Crimes-2001-to-Present/ijzp-q8t2/data\n",
    "\n",
    "-  includes type of crime, exact data/time, lat/long, District/ward, was there an arrest,...."
   ]
  },
  {
   "cell_type": "markdown",
   "id": "28be78cd-79c3-4f84-80b6-854fee293cc1",
   "metadata": {},
   "source": [
    "### Data Dictionary\n",
    "\n",
    "Taken from: data.cityofchicago.org/Public-Safety/Crimes-2001-to-Present/"
   ]
  },
  {
   "cell_type": "markdown",
   "id": "5cb0002f-c56a-493d-a921-4dc648b567e7",
   "metadata": {},
   "source": [
    "<style type=\"text/css\">\n",
    ".tg  {border-collapse:collapse;border-spacing:0;}\n",
    ".tg td{border-color:black;border-style:solid;border-width:1px;font-family:Arial, sans-serif;font-size:14px;\n",
    "  overflow:hidden;padding:10px 5px;word-break:normal;}\n",
    ".tg th{border-color:black;border-style:solid;border-width:1px;font-family:Arial, sans-serif;font-size:14px;\n",
    "  font-weight:normal;overflow:hidden;padding:10px 5px;word-break:normal;}\n",
    ".tg .tg-0pky{border-color:inherit;text-align:left;vertical-align:top}\n",
    "</style>\n",
    "<table class=\"tg\">\n",
    "<thead>\n",
    "  <tr>\n",
    "    <th class=\"tg-0pky\"><span style=\"font-weight:bold\">**Name**</span></th>\n",
    "    <th class=\"tg-0pky\"><span style=\"font-weight:bold\">**dtype**</span></th>\n",
    "    <th class=\"tg-0pky\"><span style=\"font-weight:bold\">**Description**</span></th>\n",
    "    <th class=\"tg-0pky\"></th>\n",
    "  </tr>\n",
    "</thead>\n",
    "<tbody>\n",
    "  <tr>\n",
    "    <td class=\"tg-0pky\">ID</td>\n",
    "    <td class=\"tg-0pky\">int64</td>\n",
    "    <td class=\"tg-0pky\">Unique identifier for the record</td>\n",
    "    <td class=\"tg-0pky\">numeric</td>\n",
    "  </tr>\n",
    "  <tr>\n",
    "    <td class=\"tg-0pky\">Date</td>\n",
    "    <td class=\"tg-0pky\">object</td>\n",
    "    <td class=\"tg-0pky\">Date incident occured</td>\n",
    "    <td class=\"tg-0pky\">date/time</td>\n",
    "  </tr>\n",
    "  <tr>\n",
    "    <td class=\"tg-0pky\">Primary Type</td>\n",
    "    <td class=\"tg-0pky\">object</td>\n",
    "    <td class=\"tg-0pky\">Primary description of the IL Uniform Crime Reporting code</td>\n",
    "    <td class=\"tg-0pky\">categorical</td>\n",
    "  </tr>\n",
    "  <tr>\n",
    "    <td class=\"tg-0pky\">Description</td>\n",
    "    <td class=\"tg-0pky\">object </td>\n",
    "    <td class=\"tg-0pky\">Secondary description of IUCR code</td>\n",
    "    <td class=\"tg-0pky\">categorical</td>\n",
    "  </tr>\n",
    "  <tr>\n",
    "    <td class=\"tg-0pky\">Location Description</td>\n",
    "    <td class=\"tg-0pky\">object </td>\n",
    "    <td class=\"tg-0pky\">Location where incident occurred</td>\n",
    "    <td class=\"tg-0pky\">categorical</td>\n",
    "  </tr>\n",
    "  <tr>\n",
    "    <td class=\"tg-0pky\">Arrest</td>\n",
    "    <td class=\"tg-0pky\">bool</td>\n",
    "    <td class=\"tg-0pky\">was an arrest made? </td>\n",
    "    <td class=\"tg-0pky\">true/false</td>\n",
    "  </tr>\n",
    "  <tr>\n",
    "    <td class=\"tg-0pky\">Domestic</td>\n",
    "    <td class=\"tg-0pky\">bool</td>\n",
    "    <td class=\"tg-0pky\">was the incident domestic related? </td>\n",
    "    <td class=\"tg-0pky\">true/false</td>\n",
    "  </tr>\n",
    "  <tr>\n",
    "    <td class=\"tg-0pky\">Beat</td>\n",
    "    <td class=\"tg-0pky\">int64</td>\n",
    "    <td class=\"tg-0pky\">beat where occured, Beat: smallest geo area deidcate police beat car</td>\n",
    "    <td class=\"tg-0pky\">numeric</td>\n",
    "  </tr>\n",
    "  <tr>\n",
    "    <td class=\"tg-0pky\">District</td>\n",
    "    <td class=\"tg-0pky\">float64</td>\n",
    "    <td class=\"tg-0pky\">indicates district where occured</td>\n",
    "    <td class=\"tg-0pky\">numeric</td>\n",
    "  </tr>\n",
    "  <tr>\n",
    "    <td class=\"tg-0pky\">Ward</td>\n",
    "    <td class=\"tg-0pky\">float64</td>\n",
    "    <td class=\"tg-0pky\">indicates city council district/ward where occured</td>\n",
    "    <td class=\"tg-0pky\">numeric</td>\n",
    "  </tr>\n",
    "  <tr>\n",
    "    <td class=\"tg-0pky\">Latitude</td>\n",
    "    <td class=\"tg-0pky\">float64 </td>\n",
    "    <td class=\"tg-0pky\">latitude where occured</td>\n",
    "    <td class=\"tg-0pky\">numeric</td>\n",
    "  </tr>\n",
    "  <tr>\n",
    "    <td class=\"tg-0pky\">Longitude</td>\n",
    "    <td class=\"tg-0pky\">float64</td>\n",
    "    <td class=\"tg-0pky\">longitude where occured</td>\n",
    "    <td class=\"tg-0pky\">numeric</td>\n",
    "  </tr>\n",
    "</tbody>\n",
    "</table>"
   ]
  },
  {
   "cell_type": "markdown",
   "id": "a7e4d46e-37d9-417f-a125-5b8d33c21c1b",
   "metadata": {},
   "source": [
    "# Task\n",
    "\n",
    "For this phase of the project:\n",
    "*  Help Chicago law enforcement allocate reqources for the next 6 months\n",
    "*  Compare the crime count forecast for 2 of the following:\n",
    "    * theft\n",
    "    * battery\n",
    "    * narcotics\n",
    "    * assult\n",
    "    * total crime (sum of all crime types)\n",
    "*  For each crime selected:\n",
    "    - transform data to time series of the crime count per month \n",
    "    - address all nulls\n",
    "    - decompose time series for seasonality\n",
    "    - determine non-seasonal/seasonal components\n",
    "    - evaluate for staionarity\n",
    "    - split the data and fit to model\n",
    "        - make and plot forecasts\n",
    "        - obtain metrics\n",
    "        - tune model with pmdarima's auto_arima\n",
    "        - repeat last 3 steps\n",
    "        - plot forecasts with test data\n",
    "    - Select final model and justify choice\n",
    "    - Make future forecasts\n",
    "*  Answer the following:\n",
    "        - Calculate the predicted net change in the number (raw counts) of this type of crime from the beginning of the forecast to the end.\n",
    "        - Convert the raw delta into a percent change.\n",
    "*  Prepare a final evaluation:\n",
    "        - Of the two crimes, which is forecasted to have the highest monthly count of crimes at the end of the forecast?\n",
    "        - Of the two crimes, which is forecasted to have the highest net change by the end of the forecast?\n",
    "        - Of the two crimes, which is forecasted to have the highest percent change by the end of the forecast?\n",
    "*  Make a final recommendation:\n",
    "        - What recommendation would you make to the stakeholders?\n",
    "        - Include reporting-quality visual(s) to support your recommendation."
   ]
  },
  {
   "cell_type": "markdown",
   "id": "198cb2cb-22c6-432f-a1f2-664d7ad6327e",
   "metadata": {},
   "source": [
    "### Imports"
   ]
  },
  {
   "cell_type": "code",
   "execution_count": 10,
   "id": "685ebebe-3837-4c11-a7a5-a7f0152fc0cc",
   "metadata": {},
   "outputs": [
    {
     "name": "stdout",
     "output_type": "stream",
     "text": [
      "Requirement already satisfied: pmdarima in c:\\users\\csbro\\anaconda3\\envs\\dojo-env\\lib\\site-packages (2.0.3)\n",
      "Requirement already satisfied: joblib>=0.11 in c:\\users\\csbro\\anaconda3\\envs\\dojo-env\\lib\\site-packages (from pmdarima) (1.1.1)\n",
      "Requirement already satisfied: Cython!=0.29.18,!=0.29.31,>=0.29 in c:\\users\\csbro\\anaconda3\\envs\\dojo-env\\lib\\site-packages (from pmdarima) (0.29.33)\n",
      "Requirement already satisfied: numpy>=1.21.2 in c:\\users\\csbro\\anaconda3\\envs\\dojo-env\\lib\\site-packages (from pmdarima) (1.23.4)\n",
      "Requirement already satisfied: pandas>=0.19 in c:\\users\\csbro\\anaconda3\\envs\\dojo-env\\lib\\site-packages (from pmdarima) (1.5.3)\n",
      "Requirement already satisfied: scikit-learn>=0.22 in c:\\users\\csbro\\anaconda3\\envs\\dojo-env\\lib\\site-packages (from pmdarima) (1.2.2)\n",
      "Requirement already satisfied: scipy>=1.3.2 in c:\\users\\csbro\\anaconda3\\envs\\dojo-env\\lib\\site-packages (from pmdarima) (1.10.1)\n",
      "Requirement already satisfied: statsmodels>=0.13.2 in c:\\users\\csbro\\anaconda3\\envs\\dojo-env\\lib\\site-packages (from pmdarima) (0.14.0)\n",
      "Requirement already satisfied: urllib3 in c:\\users\\csbro\\anaconda3\\envs\\dojo-env\\lib\\site-packages (from pmdarima) (1.26.15)\n",
      "Requirement already satisfied: setuptools!=50.0.0,>=38.6.0 in c:\\users\\csbro\\anaconda3\\envs\\dojo-env\\lib\\site-packages (from pmdarima) (66.0.0)\n",
      "Requirement already satisfied: python-dateutil>=2.8.1 in c:\\users\\csbro\\anaconda3\\envs\\dojo-env\\lib\\site-packages (from pandas>=0.19->pmdarima) (2.8.2)\n",
      "Requirement already satisfied: pytz>=2020.1 in c:\\users\\csbro\\anaconda3\\envs\\dojo-env\\lib\\site-packages (from pandas>=0.19->pmdarima) (2022.7.1)\n",
      "Requirement already satisfied: threadpoolctl>=2.0.0 in c:\\users\\csbro\\anaconda3\\envs\\dojo-env\\lib\\site-packages (from scikit-learn>=0.22->pmdarima) (2.2.0)\n",
      "Requirement already satisfied: patsy>=0.5.2 in c:\\users\\csbro\\anaconda3\\envs\\dojo-env\\lib\\site-packages (from statsmodels>=0.13.2->pmdarima) (0.5.3)\n",
      "Requirement already satisfied: packaging>=21.3 in c:\\users\\csbro\\anaconda3\\envs\\dojo-env\\lib\\site-packages (from statsmodels>=0.13.2->pmdarima) (23.0)\n",
      "Requirement already satisfied: six in c:\\users\\csbro\\anaconda3\\envs\\dojo-env\\lib\\site-packages (from patsy>=0.5.2->statsmodels>=0.13.2->pmdarima) (1.16.0)\n"
     ]
    }
   ],
   "source": [
    "!pip install pmdarima"
   ]
  },
  {
   "cell_type": "code",
   "execution_count": 12,
   "id": "9283ada6-7863-4410-a61f-40e84dbb5662",
   "metadata": {},
   "outputs": [],
   "source": [
    "import matplotlib.pyplot as plt\n",
    "import pandas as pd\n",
    "import seaborn as sns\n",
    "import statsmodels.api as sm\n",
    "import statsmodels.tsa.api as tsa\n",
    "\n",
    "from pmdarima.arima.utils import ndiffs, nsdiffs\n",
    "from pmdarima.model_selection import train_test_split\n",
    "import pmdarima as pm\n",
    "\n",
    "# Set paramters\n",
    "plt.rcParams['figure.figsize']=(12,3)"
   ]
  },
  {
   "cell_type": "code",
   "execution_count": null,
   "id": "8034d179-e411-40ff-92b5-84e61ba8855c",
   "metadata": {},
   "outputs": [],
   "source": [
    "df = pd.read_csv('data/Chicago-Crime-glob.csv')\n",
    "df.head(2)"
   ]
  },
  {
   "cell_type": "code",
   "execution_count": null,
   "id": "2dba0f5f-35a2-4e29-9c27-984ad2f32ba6",
   "metadata": {},
   "outputs": [],
   "source": []
  }
 ],
 "metadata": {
  "kernelspec": {
   "display_name": "Python (dojo-env)",
   "language": "python",
   "name": "dojo-env"
  },
  "language_info": {
   "codemirror_mode": {
    "name": "ipython",
    "version": 3
   },
   "file_extension": ".py",
   "mimetype": "text/x-python",
   "name": "python",
   "nbconvert_exporter": "python",
   "pygments_lexer": "ipython3",
   "version": "3.10.10"
  },
  "widgets": {
   "application/vnd.jupyter.widget-state+json": {
    "state": {},
    "version_major": 2,
    "version_minor": 0
   }
  }
 },
 "nbformat": 4,
 "nbformat_minor": 5
}
