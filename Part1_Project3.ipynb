{
 "cells": [
  {
   "cell_type": "markdown",
   "id": "67a0536b-f826-4a5a-a1ec-0b3a411fdd2d",
   "metadata": {},
   "source": [
    "# Project 3 Part 1\n",
    "## Chicago Crime Data\n",
    "\n",
    "*Christina Brockway*"
   ]
  },
  {
   "cell_type": "markdown",
   "id": "218d15af-3ac6-4594-8dc4-f938f2323f22",
   "metadata": {},
   "source": [
    "use a prepared zip file with the Chicago Crime Data:\n",
    "https://drive.google.com/file/d/1avxUlCAros-R9GF6SKXqM_GopzO7VwA5/view?usp=drive_link\n",
    "\n",
    "**Original Source is the Chicago Data Portal: Crimes 2001 to Present**"
   ]
  },
  {
   "cell_type": "markdown",
   "id": "dfec9b45-19f9-4d7b-814d-3e0e67f1876a",
   "metadata": {},
   "source": [
    "**Data Description**\n",
    "https://data.cityofchicago.org/Public-Safety/Crimes-2001-to-Present/ijzp-q8t2/data\n",
    "\n",
    "-  includes type of crime, exact data/time, lat/long, District/ward, was there an arrest,...."
   ]
  },
  {
   "cell_type": "markdown",
   "id": "3887902e-f847-42c1-a200-9275baf50286",
   "metadata": {},
   "source": [
    "# e"
   ]
  },
  {
   "cell_type": "markdown",
   "id": "bf18c670-15d6-403a-aa55-d55782387e90",
   "metadata": {},
   "source": [
    "# Task:\n",
    "Answer a series of question s about trends in crimes in Chicago for a reporter for a local newspaper.\n",
    "\n",
    "-  Pick 3 topics to analyze:\n",
    "  ~  Comparing Police Districts\n",
    "  ~  Crimes Across the Years\n",
    "  ~  Comparing AM vs PM Rush Hour\n",
    "  ~  Comparing Months\n",
    "  ~  Comparing Holidays\n",
    "  ~  What cycles(seasonality) can you find this data\n"
   ]
  },
  {
   "cell_type": "markdown",
   "id": "01aadd4c-6976-4f2a-bd5e-a2d8593280f9",
   "metadata": {},
   "source": [
    "### Imports"
   ]
  },
  {
   "cell_type": "code",
   "execution_count": 7,
   "id": "3dceecea-a786-4266-8a78-9ef9bda57dcd",
   "metadata": {},
   "outputs": [],
   "source": [
    "import pandas as pd\n",
    "import glob\n",
    "import numpy as np\n",
    "import seaborn as sns\n",
    "import matplotlib.pyplot as plt\n",
    "import matplotlib.dates as mdates\n",
    "import matplotlib.ticker as mticks\n",
    "\n",
    "import datetime as dt\n",
    "import statsmodels.tsa.api as tsa"
   ]
  },
  {
   "cell_type": "markdown",
   "id": "32e4a83d-118c-48fa-b93f-0b3bae3fc66d",
   "metadata": {},
   "source": [
    "### Load Data"
   ]
  },
  {
   "cell_type": "code",
   "execution_count": 14,
   "id": "2b39174f-2766-48ea-93f1-cf863c8aefb6",
   "metadata": {},
   "outputs": [
    {
     "data": {
      "text/html": [
       "<div>\n",
       "<style scoped>\n",
       "    .dataframe tbody tr th:only-of-type {\n",
       "        vertical-align: middle;\n",
       "    }\n",
       "\n",
       "    .dataframe tbody tr th {\n",
       "        vertical-align: top;\n",
       "    }\n",
       "\n",
       "    .dataframe thead th {\n",
       "        text-align: right;\n",
       "    }\n",
       "</style>\n",
       "<table border=\"1\" class=\"dataframe\">\n",
       "  <thead>\n",
       "    <tr style=\"text-align: right;\">\n",
       "      <th></th>\n",
       "      <th>ID</th>\n",
       "      <th>Date</th>\n",
       "      <th>Primary Type</th>\n",
       "      <th>Description</th>\n",
       "      <th>Location Description</th>\n",
       "      <th>Arrest</th>\n",
       "      <th>Domestic</th>\n",
       "      <th>Beat</th>\n",
       "      <th>District</th>\n",
       "      <th>Ward</th>\n",
       "      <th>Latitude</th>\n",
       "      <th>Longitude</th>\n",
       "    </tr>\n",
       "  </thead>\n",
       "  <tbody>\n",
       "    <tr>\n",
       "      <th>0</th>\n",
       "      <td>1326041</td>\n",
       "      <td>01/01/2001 01:00:00 AM</td>\n",
       "      <td>BATTERY</td>\n",
       "      <td>SIMPLE</td>\n",
       "      <td>RESIDENCE</td>\n",
       "      <td>False</td>\n",
       "      <td>False</td>\n",
       "      <td>1624</td>\n",
       "      <td>16.0</td>\n",
       "      <td>NaN</td>\n",
       "      <td>41.957850</td>\n",
       "      <td>-87.749185</td>\n",
       "    </tr>\n",
       "    <tr>\n",
       "      <th>1</th>\n",
       "      <td>1319931</td>\n",
       "      <td>01/01/2001 01:00:00 PM</td>\n",
       "      <td>BATTERY</td>\n",
       "      <td>SIMPLE</td>\n",
       "      <td>RESIDENCE</td>\n",
       "      <td>False</td>\n",
       "      <td>True</td>\n",
       "      <td>825</td>\n",
       "      <td>8.0</td>\n",
       "      <td>NaN</td>\n",
       "      <td>41.783892</td>\n",
       "      <td>-87.684841</td>\n",
       "    </tr>\n",
       "    <tr>\n",
       "      <th>2</th>\n",
       "      <td>1324743</td>\n",
       "      <td>01/01/2001 01:00:00 PM</td>\n",
       "      <td>GAMBLING</td>\n",
       "      <td>ILLEGAL ILL LOTTERY</td>\n",
       "      <td>STREET</td>\n",
       "      <td>True</td>\n",
       "      <td>False</td>\n",
       "      <td>313</td>\n",
       "      <td>3.0</td>\n",
       "      <td>NaN</td>\n",
       "      <td>41.780412</td>\n",
       "      <td>-87.611970</td>\n",
       "    </tr>\n",
       "    <tr>\n",
       "      <th>3</th>\n",
       "      <td>1310717</td>\n",
       "      <td>01/01/2001 01:00:00 AM</td>\n",
       "      <td>CRIMINAL DAMAGE</td>\n",
       "      <td>TO VEHICLE</td>\n",
       "      <td>STREET</td>\n",
       "      <td>False</td>\n",
       "      <td>False</td>\n",
       "      <td>2424</td>\n",
       "      <td>24.0</td>\n",
       "      <td>NaN</td>\n",
       "      <td>42.012391</td>\n",
       "      <td>-87.678032</td>\n",
       "    </tr>\n",
       "    <tr>\n",
       "      <th>4</th>\n",
       "      <td>1318099</td>\n",
       "      <td>01/01/2001 01:00:00 AM</td>\n",
       "      <td>BATTERY</td>\n",
       "      <td>SIMPLE</td>\n",
       "      <td>RESIDENCE PORCH/HALLWAY</td>\n",
       "      <td>False</td>\n",
       "      <td>True</td>\n",
       "      <td>214</td>\n",
       "      <td>2.0</td>\n",
       "      <td>NaN</td>\n",
       "      <td>41.819538</td>\n",
       "      <td>-87.620020</td>\n",
       "    </tr>\n",
       "  </tbody>\n",
       "</table>\n",
       "</div>"
      ],
      "text/plain": [
       "        ID                    Date     Primary Type          Description  \\\n",
       "0  1326041  01/01/2001 01:00:00 AM          BATTERY               SIMPLE   \n",
       "1  1319931  01/01/2001 01:00:00 PM          BATTERY               SIMPLE   \n",
       "2  1324743  01/01/2001 01:00:00 PM         GAMBLING  ILLEGAL ILL LOTTERY   \n",
       "3  1310717  01/01/2001 01:00:00 AM  CRIMINAL DAMAGE           TO VEHICLE   \n",
       "4  1318099  01/01/2001 01:00:00 AM          BATTERY               SIMPLE   \n",
       "\n",
       "      Location Description  Arrest  Domestic  Beat  District  Ward   Latitude  \\\n",
       "0                RESIDENCE   False     False  1624      16.0   NaN  41.957850   \n",
       "1                RESIDENCE   False      True   825       8.0   NaN  41.783892   \n",
       "2                   STREET    True     False   313       3.0   NaN  41.780412   \n",
       "3                   STREET   False     False  2424      24.0   NaN  42.012391   \n",
       "4  RESIDENCE PORCH/HALLWAY   False      True   214       2.0   NaN  41.819538   \n",
       "\n",
       "   Longitude  \n",
       "0 -87.749185  \n",
       "1 -87.684841  \n",
       "2 -87.611970  \n",
       "3 -87.678032  \n",
       "4 -87.620020  "
      ]
     },
     "execution_count": 14,
     "metadata": {},
     "output_type": "execute_result"
    }
   ],
   "source": [
    "folder = \"data/*Crime*.csv\"\n",
    "crime_files = sorted(glob.glob(folder, recursive=True))\n",
    "df = pd.concat([pd.read_csv(f) for f in crime_files])\n",
    "df.head()"
   ]
  },
  {
   "cell_type": "code",
   "execution_count": 15,
   "id": "68a4310e-ac22-43a2-8efc-c1560980aa51",
   "metadata": {},
   "outputs": [
    {
     "name": "stdout",
     "output_type": "stream",
     "text": [
      "<class 'pandas.core.frame.DataFrame'>\n",
      "Int64Index: 7713109 entries, 0 to 238857\n",
      "Data columns (total 12 columns):\n",
      " #   Column                Dtype  \n",
      "---  ------                -----  \n",
      " 0   ID                    int64  \n",
      " 1   Date                  object \n",
      " 2   Primary Type          object \n",
      " 3   Description           object \n",
      " 4   Location Description  object \n",
      " 5   Arrest                bool   \n",
      " 6   Domestic              bool   \n",
      " 7   Beat                  int64  \n",
      " 8   District              float64\n",
      " 9   Ward                  float64\n",
      " 10  Latitude              float64\n",
      " 11  Longitude             float64\n",
      "dtypes: bool(2), float64(4), int64(2), object(4)\n",
      "memory usage: 662.0+ MB\n"
     ]
    }
   ],
   "source": [
    "df.info()"
   ]
  },
  {
   "cell_type": "markdown",
   "id": "88b93424-c8a9-4258-8c71-2f7aed10146b",
   "metadata": {},
   "source": [
    "### Data Dictionary\n",
    "\n",
    "Taken from: data.cityofchicago.org/Public-Safety/Crimes-2001-to-Present/"
   ]
  },
  {
   "cell_type": "markdown",
   "id": "e411eca8-8226-446c-bd28-4a4f11ca03a6",
   "metadata": {},
   "source": [
    "<style type=\"text/css\">\r\n",
    ".tg  {border-collapse:collapse;border-spacing:0;}\r\n",
    ".tg td{border-color:black;border-style:solid;border-width:1px;font-family:Arial, sans-serif;font-size:14px;\r\n",
    "  overflow:hidden;padding:10px 5px;word-break:normal;}\r\n",
    ".tg th{border-color:black;border-style:solid;border-width:1px;font-family:Arial, sans-serif;font-size:14px;\r\n",
    "  font-weight:normal;overflow:hidden;padding:10px 5px;word-break:normal;}\r\n",
    ".tg .tg-0pky{border-color:inherit;text-align:left;vertical-align:top}\r\n",
    "</style>\r\n",
    "<table class=\"tg\">\r\n",
    "<thead>\r\n",
    "  <tr>\r\n",
    "    <th class=\"tg-0pky\"><span style=\"font-weight:bold\">**Name**</span></th>\r\n",
    "    <th class=\"tg-0pky\"><span style=\"font-weight:bold\">**dtype**</span></th>\r\n",
    "    <th class=\"tg-0pky\"><span style=\"font-weight:bold\">**Description**</span></th>\r\n",
    "    <th class=\"tg-0pky\"></th>\r\n",
    "  </tr>\r\n",
    "</thead>\r\n",
    "<tbody>\r\n",
    "  <tr>\r\n",
    "    <td class=\"tg-0pky\">ID</td>\r\n",
    "    <td class=\"tg-0pky\">int64</td>\r\n",
    "    <td class=\"tg-0pky\">Unique identifier for the record</td>\r\n",
    "    <td class=\"tg-0pky\">numeric</td>\r\n",
    "  </tr>\r\n",
    "  <tr>\r\n",
    "    <td class=\"tg-0pky\">Date</td>\r\n",
    "    <td class=\"tg-0pky\">object</td>\r\n",
    "    <td class=\"tg-0pky\">Date incident occured</td>\r\n",
    "    <td class=\"tg-0pky\">date/time</td>\r\n",
    "  </tr>\r\n",
    "  <tr>\r\n",
    "    <td class=\"tg-0pky\">Primary Type</td>\r\n",
    "    <td class=\"tg-0pky\">object</td>\r\n",
    "    <td class=\"tg-0pky\">Primary description of the IL Uniform Crime Reporting code</td>\r\n",
    "    <td class=\"tg-0pky\">categorical</td>\r\n",
    "  </tr>\r\n",
    "  <tr>\r\n",
    "    <td class=\"tg-0pky\">Description</td>\r\n",
    "    <td class=\"tg-0pky\">object </td>\r\n",
    "    <td class=\"tg-0pky\">Secondary description of IUCR code</td>\r\n",
    "    <td class=\"tg-0pky\">categorical</td>\r\n",
    "  </tr>\r\n",
    "  <tr>\r\n",
    "    <td class=\"tg-0pky\">Location Description</td>\r\n",
    "    <td class=\"tg-0pky\">object </td>\r\n",
    "    <td class=\"tg-0pky\">Location where incident occurred</td>\r\n",
    "    <td class=\"tg-0pky\">categorical</td>\r\n",
    "  </tr>\r\n",
    "  <tr>\r\n",
    "    <td class=\"tg-0pky\">Arrest</td>\r\n",
    "    <td class=\"tg-0pky\">bool</td>\r\n",
    "    <td class=\"tg-0pky\">was an arrest made? </td>\r\n",
    "    <td class=\"tg-0pky\">true/false</td>\r\n",
    "  </tr>\r\n",
    "  <tr>\r\n",
    "    <td class=\"tg-0pky\">Domestic</td>\r\n",
    "    <td class=\"tg-0pky\">bool</td>\r\n",
    "    <td class=\"tg-0pky\">was the incident domestic related? </td>\r\n",
    "    <td class=\"tg-0pky\">true/false</td>\r\n",
    "  </tr>\r\n",
    "  <tr>\r\n",
    "    <td class=\"tg-0pky\">Beat</td>\r\n",
    "    <td class=\"tg-0pky\">int64</td>\r\n",
    "    <td class=\"tg-0pky\">beat where occured, Beat: smallest geo area deidcate police beat car</td>\r\n",
    "    <td class=\"tg-0pky\">numeric</td>\r\n",
    "  </tr>\r\n",
    "  <tr>\r\n",
    "    <td class=\"tg-0pky\">District</td>\r\n",
    "    <td class=\"tg-0pky\">float64</td>\r\n",
    "    <td class=\"tg-0pky\">indicates district where occured</td>\r\n",
    "    <td class=\"tg-0pky\">numeric</td>\r\n",
    "  </tr>\r\n",
    "  <tr>\r\n",
    "    <td class=\"tg-0pky\">Ward</td>\r\n",
    "    <td class=\"tg-0pky\">float64</td>\r\n",
    "    <td class=\"tg-0pky\">indicates city council district/ward where occured</td>\r\n",
    "    <td class=\"tg-0pky\">numeric</td>\r\n",
    "  </tr>\r\n",
    "  <tr>\r\n",
    "    <td class=\"tg-0pky\">Latitude</td>\r\n",
    "    <td class=\"tg-0pky\">float64 </td>\r\n",
    "    <td class=\"tg-0pky\">latitude where occured</td>\r\n",
    "    <td class=\"tg-0pky\">numeric</td>\r\n",
    "  </tr>\r\n",
    "  <tr>\r\n",
    "    <td class=\"tg-0pky\">Longitude</td>\r\n",
    "    <td class=\"tg-0pky\">float64</td>\r\n",
    "    <td class=\"tg-0pky\">longitude where occured</td>\r\n",
    "    <td class=\"tg-0pky\">numeric</td>\r\n",
    "  </tr>\r\n",
    "</tbody>\r\n",
    "</table>"
   ]
  },
  {
   "cell_type": "code",
   "execution_count": null,
   "id": "1975de7d-fc37-4a80-b1b2-152c6732f78b",
   "metadata": {},
   "outputs": [],
   "source": [
    "## Comparing Crimes Across the Years"
   ]
  },
  {
   "cell_type": "code",
   "execution_count": null,
   "id": "6f89363c-383f-48cb-8bcf-fbe4a9f2c184",
   "metadata": {},
   "outputs": [],
   "source": [
    "#### Is the total number of crimes increasing/decreasing across the years?"
   ]
  }
 ],
 "metadata": {
  "kernelspec": {
   "display_name": "Python (dojo-env)",
   "language": "python",
   "name": "dojo-env"
  },
  "language_info": {
   "codemirror_mode": {
    "name": "ipython",
    "version": 3
   },
   "file_extension": ".py",
   "mimetype": "text/x-python",
   "name": "python",
   "nbconvert_exporter": "python",
   "pygments_lexer": "ipython3",
   "version": "3.10.10"
  },
  "widgets": {
   "application/vnd.jupyter.widget-state+json": {
    "state": {},
    "version_major": 2,
    "version_minor": 0
   }
  }
 },
 "nbformat": 4,
 "nbformat_minor": 5
}
