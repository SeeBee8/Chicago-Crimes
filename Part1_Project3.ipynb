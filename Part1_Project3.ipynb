{
 "cells": [
  {
   "cell_type": "markdown",
   "id": "67a0536b-f826-4a5a-a1ec-0b3a411fdd2d",
   "metadata": {},
   "source": [
    "# Project 3 Part 1\n",
    "## Chicago Crime Data\n",
    "\n",
    "*Christina Brockway*"
   ]
  },
  {
   "cell_type": "code",
   "execution_count": null,
   "id": "6146ade6-b3b6-4e7e-97cc-d137a500f2c9",
   "metadata": {},
   "outputs": [],
   "source": [
    "!pip install holidays"
   ]
  },
  {
   "cell_type": "markdown",
   "id": "218d15af-3ac6-4594-8dc4-f938f2323f22",
   "metadata": {},
   "source": [
    "use a prepared zip file with the Chicago Crime Data:\n",
    "https://drive.google.com/file/d/1avxUlCAros-R9GF6SKXqM_GopzO7VwA5/view?usp=drive_link\n",
    "\n",
    "**Original Source is the Chicago Data Portal: Crimes 2001 to Present**"
   ]
  },
  {
   "cell_type": "markdown",
   "id": "dfec9b45-19f9-4d7b-814d-3e0e67f1876a",
   "metadata": {},
   "source": [
    "**Data Description**\n",
    "https://data.cityofchicago.org/Public-Safety/Crimes-2001-to-Present/ijzp-q8t2/data\n",
    "\n",
    "-  includes type of crime, exact data/time, lat/long, District/ward, was there an arrest,...."
   ]
  },
  {
   "cell_type": "markdown",
   "id": "88b93424-c8a9-4258-8c71-2f7aed10146b",
   "metadata": {},
   "source": [
    "### Data Dictionary\n",
    "\n",
    "Taken from: data.cityofchicago.org/Public-Safety/Crimes-2001-to-Present/"
   ]
  },
  {
   "cell_type": "markdown",
   "id": "6e645aea-521f-4c89-9cf4-9f65e1a734eb",
   "metadata": {},
   "source": [
    "<style type=\"text/css\">\r\n",
    ".tg  {border-collapse:collapse;border-spacing:0;}\r\n",
    ".tg td{border-color:black;border-style:solid;border-width:1px;font-family:Arial, sans-serif;font-size:14px;\r\n",
    "  overflow:hidden;padding:10px 5px;word-break:normal;}\r\n",
    ".tg th{border-color:black;border-style:solid;border-width:1px;font-family:Arial, sans-serif;font-size:14px;\r\n",
    "  font-weight:normal;overflow:hidden;padding:10px 5px;word-break:normal;}\r\n",
    ".tg .tg-0pky{border-color:inherit;text-align:left;vertical-align:top}\r\n",
    "</style>\r\n",
    "<table class=\"tg\">\r\n",
    "<thead>\r\n",
    "  <tr>\r\n",
    "    <th class=\"tg-0pky\"><span style=\"font-weight:bold\">**Name**</span></th>\r\n",
    "    <th class=\"tg-0pky\"><span style=\"font-weight:bold\">**dtype**</span></th>\r\n",
    "    <th class=\"tg-0pky\"><span style=\"font-weight:bold\">**Description**</span></th>\r\n",
    "    <th class=\"tg-0pky\"></th>\r\n",
    "  </tr>\r\n",
    "</thead>\r\n",
    "<tbody>\r\n",
    "  <tr>\r\n",
    "    <td class=\"tg-0pky\">ID</td>\r\n",
    "    <td class=\"tg-0pky\">int64</td>\r\n",
    "    <td class=\"tg-0pky\">Unique identifier for the record</td>\r\n",
    "    <td class=\"tg-0pky\">numeric</td>\r\n",
    "  </tr>\r\n",
    "  <tr>\r\n",
    "    <td class=\"tg-0pky\">Date</td>\r\n",
    "    <td class=\"tg-0pky\">object</td>\r\n",
    "    <td class=\"tg-0pky\">Date incident occured</td>\r\n",
    "    <td class=\"tg-0pky\">date/time</td>\r\n",
    "  </tr>\r\n",
    "  <tr>\r\n",
    "    <td class=\"tg-0pky\">Primary Type</td>\r\n",
    "    <td class=\"tg-0pky\">object</td>\r\n",
    "    <td class=\"tg-0pky\">Primary description of the IL Uniform Crime Reporting code</td>\r\n",
    "    <td class=\"tg-0pky\">categorical</td>\r\n",
    "  </tr>\r\n",
    "  <tr>\r\n",
    "    <td class=\"tg-0pky\">Description</td>\r\n",
    "    <td class=\"tg-0pky\">object </td>\r\n",
    "    <td class=\"tg-0pky\">Secondary description of IUCR code</td>\r\n",
    "    <td class=\"tg-0pky\">categorical</td>\r\n",
    "  </tr>\r\n",
    "  <tr>\r\n",
    "    <td class=\"tg-0pky\">Location Description</td>\r\n",
    "    <td class=\"tg-0pky\">object </td>\r\n",
    "    <td class=\"tg-0pky\">Location where incident occurred</td>\r\n",
    "    <td class=\"tg-0pky\">categorical</td>\r\n",
    "  </tr>\r\n",
    "  <tr>\r\n",
    "    <td class=\"tg-0pky\">Arrest</td>\r\n",
    "    <td class=\"tg-0pky\">bool</td>\r\n",
    "    <td class=\"tg-0pky\">was an arrest made? </td>\r\n",
    "    <td class=\"tg-0pky\">true/false</td>\r\n",
    "  </tr>\r\n",
    "  <tr>\r\n",
    "    <td class=\"tg-0pky\">Domestic</td>\r\n",
    "    <td class=\"tg-0pky\">bool</td>\r\n",
    "    <td class=\"tg-0pky\">was the incident domestic related? </td>\r\n",
    "    <td class=\"tg-0pky\">true/false</td>\r\n",
    "  </tr>\r\n",
    "  <tr>\r\n",
    "    <td class=\"tg-0pky\">Beat</td>\r\n",
    "    <td class=\"tg-0pky\">int64</td>\r\n",
    "    <td class=\"tg-0pky\">beat where occured, Beat: smallest geo area deidcate police beat car</td>\r\n",
    "    <td class=\"tg-0pky\">numeric</td>\r\n",
    "  </tr>\r\n",
    "  <tr>\r\n",
    "    <td class=\"tg-0pky\">District</td>\r\n",
    "    <td class=\"tg-0pky\">float64</td>\r\n",
    "    <td class=\"tg-0pky\">indicates district where occured</td>\r\n",
    "    <td class=\"tg-0pky\">numeric</td>\r\n",
    "  </tr>\r\n",
    "  <tr>\r\n",
    "    <td class=\"tg-0pky\">Ward</td>\r\n",
    "    <td class=\"tg-0pky\">float64</td>\r\n",
    "    <td class=\"tg-0pky\">indicates city council district/ward where occured</td>\r\n",
    "    <td class=\"tg-0pky\">numeric</td>\r\n",
    "  </tr>\r\n",
    "  <tr>\r\n",
    "    <td class=\"tg-0pky\">Latitude</td>\r\n",
    "    <td class=\"tg-0pky\">float64 </td>\r\n",
    "    <td class=\"tg-0pky\">latitude where occured</td>\r\n",
    "    <td class=\"tg-0pky\">numeric</td>\r\n",
    "  </tr>\r\n",
    "  <tr>\r\n",
    "    <td class=\"tg-0pky\">Longitude</td>\r\n",
    "    <td class=\"tg-0pky\">float64</td>\r\n",
    "    <td class=\"tg-0pky\">longitude where occured</td>\r\n",
    "    <td class=\"tg-0pky\">numeric</td>\r\n",
    "  </tr>\r\n",
    "</tbody>\r\n",
    "</table>"
   ]
  },
  {
   "cell_type": "markdown",
   "id": "3887902e-f847-42c1-a200-9275baf50286",
   "metadata": {},
   "source": []
  },
  {
   "cell_type": "markdown",
   "id": "bf18c670-15d6-403a-aa55-d55782387e90",
   "metadata": {},
   "source": [
    "# Task:\n",
    "Answer a series of question s about trends in crimes in Chicago for a reporter for a local newspaper.\n",
    "\n",
    "-  Pick 3 topics to analyze:\n",
    "  ~  Comparing Police Districts\n",
    "  ~  Crimes Across the Years\n",
    "  ~  Comparing AM vs PM Rush Hour\n",
    "  ~  Comparing Months\n",
    "  ~  Comparing Holidays\n",
    "  ~  What cycles(seasonality) can you find this data\n"
   ]
  },
  {
   "cell_type": "markdown",
   "id": "01aadd4c-6976-4f2a-bd5e-a2d8593280f9",
   "metadata": {},
   "source": [
    "### Imports"
   ]
  },
  {
   "cell_type": "code",
   "execution_count": 1,
   "id": "3dceecea-a786-4266-8a78-9ef9bda57dcd",
   "metadata": {},
   "outputs": [],
   "source": [
    "import pandas as pd\n",
    "import glob\n",
    "import numpy as np\n",
    "import seaborn as sns\n",
    "import matplotlib.pyplot as plt\n",
    "import matplotlib.dates as mdates\n",
    "import matplotlib.ticker as mticks\n",
    "\n",
    "import datetime as dt\n",
    "import statsmodels.tsa.api as tsa\n",
    "\n",
    "import holidays\n",
    "from holidays import country_holidays"
   ]
  },
  {
   "cell_type": "markdown",
   "id": "32e4a83d-118c-48fa-b93f-0b3bae3fc66d",
   "metadata": {},
   "source": [
    "### Load Data"
   ]
  },
  {
   "cell_type": "code",
   "execution_count": 2,
   "id": "2b39174f-2766-48ea-93f1-cf863c8aefb6",
   "metadata": {},
   "outputs": [
    {
     "data": {
      "text/html": [
       "<div>\n",
       "<style scoped>\n",
       "    .dataframe tbody tr th:only-of-type {\n",
       "        vertical-align: middle;\n",
       "    }\n",
       "\n",
       "    .dataframe tbody tr th {\n",
       "        vertical-align: top;\n",
       "    }\n",
       "\n",
       "    .dataframe thead th {\n",
       "        text-align: right;\n",
       "    }\n",
       "</style>\n",
       "<table border=\"1\" class=\"dataframe\">\n",
       "  <thead>\n",
       "    <tr style=\"text-align: right;\">\n",
       "      <th></th>\n",
       "      <th>ID</th>\n",
       "      <th>Date</th>\n",
       "      <th>Primary Type</th>\n",
       "      <th>Description</th>\n",
       "      <th>Location Description</th>\n",
       "      <th>Arrest</th>\n",
       "      <th>Domestic</th>\n",
       "      <th>Beat</th>\n",
       "      <th>District</th>\n",
       "      <th>Ward</th>\n",
       "      <th>Latitude</th>\n",
       "      <th>Longitude</th>\n",
       "    </tr>\n",
       "  </thead>\n",
       "  <tbody>\n",
       "    <tr>\n",
       "      <th>0</th>\n",
       "      <td>1326041</td>\n",
       "      <td>01/01/2001 01:00:00 AM</td>\n",
       "      <td>BATTERY</td>\n",
       "      <td>SIMPLE</td>\n",
       "      <td>RESIDENCE</td>\n",
       "      <td>False</td>\n",
       "      <td>False</td>\n",
       "      <td>1624</td>\n",
       "      <td>16.0</td>\n",
       "      <td>NaN</td>\n",
       "      <td>41.957850</td>\n",
       "      <td>-87.749185</td>\n",
       "    </tr>\n",
       "    <tr>\n",
       "      <th>1</th>\n",
       "      <td>1319931</td>\n",
       "      <td>01/01/2001 01:00:00 PM</td>\n",
       "      <td>BATTERY</td>\n",
       "      <td>SIMPLE</td>\n",
       "      <td>RESIDENCE</td>\n",
       "      <td>False</td>\n",
       "      <td>True</td>\n",
       "      <td>825</td>\n",
       "      <td>8.0</td>\n",
       "      <td>NaN</td>\n",
       "      <td>41.783892</td>\n",
       "      <td>-87.684841</td>\n",
       "    </tr>\n",
       "    <tr>\n",
       "      <th>2</th>\n",
       "      <td>1324743</td>\n",
       "      <td>01/01/2001 01:00:00 PM</td>\n",
       "      <td>GAMBLING</td>\n",
       "      <td>ILLEGAL ILL LOTTERY</td>\n",
       "      <td>STREET</td>\n",
       "      <td>True</td>\n",
       "      <td>False</td>\n",
       "      <td>313</td>\n",
       "      <td>3.0</td>\n",
       "      <td>NaN</td>\n",
       "      <td>41.780412</td>\n",
       "      <td>-87.611970</td>\n",
       "    </tr>\n",
       "    <tr>\n",
       "      <th>3</th>\n",
       "      <td>1310717</td>\n",
       "      <td>01/01/2001 01:00:00 AM</td>\n",
       "      <td>CRIMINAL DAMAGE</td>\n",
       "      <td>TO VEHICLE</td>\n",
       "      <td>STREET</td>\n",
       "      <td>False</td>\n",
       "      <td>False</td>\n",
       "      <td>2424</td>\n",
       "      <td>24.0</td>\n",
       "      <td>NaN</td>\n",
       "      <td>42.012391</td>\n",
       "      <td>-87.678032</td>\n",
       "    </tr>\n",
       "    <tr>\n",
       "      <th>4</th>\n",
       "      <td>1318099</td>\n",
       "      <td>01/01/2001 01:00:00 AM</td>\n",
       "      <td>BATTERY</td>\n",
       "      <td>SIMPLE</td>\n",
       "      <td>RESIDENCE PORCH/HALLWAY</td>\n",
       "      <td>False</td>\n",
       "      <td>True</td>\n",
       "      <td>214</td>\n",
       "      <td>2.0</td>\n",
       "      <td>NaN</td>\n",
       "      <td>41.819538</td>\n",
       "      <td>-87.620020</td>\n",
       "    </tr>\n",
       "  </tbody>\n",
       "</table>\n",
       "</div>"
      ],
      "text/plain": [
       "        ID                    Date     Primary Type          Description  \\\n",
       "0  1326041  01/01/2001 01:00:00 AM          BATTERY               SIMPLE   \n",
       "1  1319931  01/01/2001 01:00:00 PM          BATTERY               SIMPLE   \n",
       "2  1324743  01/01/2001 01:00:00 PM         GAMBLING  ILLEGAL ILL LOTTERY   \n",
       "3  1310717  01/01/2001 01:00:00 AM  CRIMINAL DAMAGE           TO VEHICLE   \n",
       "4  1318099  01/01/2001 01:00:00 AM          BATTERY               SIMPLE   \n",
       "\n",
       "      Location Description  Arrest  Domestic  Beat  District  Ward   Latitude  \\\n",
       "0                RESIDENCE   False     False  1624      16.0   NaN  41.957850   \n",
       "1                RESIDENCE   False      True   825       8.0   NaN  41.783892   \n",
       "2                   STREET    True     False   313       3.0   NaN  41.780412   \n",
       "3                   STREET   False     False  2424      24.0   NaN  42.012391   \n",
       "4  RESIDENCE PORCH/HALLWAY   False      True   214       2.0   NaN  41.819538   \n",
       "\n",
       "   Longitude  \n",
       "0 -87.749185  \n",
       "1 -87.684841  \n",
       "2 -87.611970  \n",
       "3 -87.678032  \n",
       "4 -87.620020  "
      ]
     },
     "execution_count": 2,
     "metadata": {},
     "output_type": "execute_result"
    }
   ],
   "source": [
    "folder = \"data/*Crime*.csv\"\n",
    "crime_files = sorted(glob.glob(folder, recursive=True))\n",
    "df = pd.concat([pd.read_csv(f) for f in crime_files])\n",
    "df.head()"
   ]
  },
  {
   "cell_type": "code",
   "execution_count": 3,
   "id": "68a4310e-ac22-43a2-8efc-c1560980aa51",
   "metadata": {},
   "outputs": [
    {
     "name": "stdout",
     "output_type": "stream",
     "text": [
      "<class 'pandas.core.frame.DataFrame'>\n",
      "Int64Index: 7713109 entries, 0 to 238857\n",
      "Data columns (total 12 columns):\n",
      " #   Column                Dtype  \n",
      "---  ------                -----  \n",
      " 0   ID                    int64  \n",
      " 1   Date                  object \n",
      " 2   Primary Type          object \n",
      " 3   Description           object \n",
      " 4   Location Description  object \n",
      " 5   Arrest                bool   \n",
      " 6   Domestic              bool   \n",
      " 7   Beat                  int64  \n",
      " 8   District              float64\n",
      " 9   Ward                  float64\n",
      " 10  Latitude              float64\n",
      " 11  Longitude             float64\n",
      "dtypes: bool(2), float64(4), int64(2), object(4)\n",
      "memory usage: 662.0+ MB\n"
     ]
    }
   ],
   "source": [
    "df.info()"
   ]
  },
  {
   "cell_type": "code",
   "execution_count": 4,
   "id": "b5cf3f64-84db-4917-9a6a-8a35563fc286",
   "metadata": {},
   "outputs": [],
   "source": [
    "dff = df.copy()"
   ]
  },
  {
   "cell_type": "code",
   "execution_count": 5,
   "id": "0ee5d5a6-8b35-40e5-9309-a03c82c9022a",
   "metadata": {},
   "outputs": [
    {
     "data": {
      "text/html": [
       "<div>\n",
       "<style scoped>\n",
       "    .dataframe tbody tr th:only-of-type {\n",
       "        vertical-align: middle;\n",
       "    }\n",
       "\n",
       "    .dataframe tbody tr th {\n",
       "        vertical-align: top;\n",
       "    }\n",
       "\n",
       "    .dataframe thead th {\n",
       "        text-align: right;\n",
       "    }\n",
       "</style>\n",
       "<table border=\"1\" class=\"dataframe\">\n",
       "  <thead>\n",
       "    <tr style=\"text-align: right;\">\n",
       "      <th></th>\n",
       "      <th>ID</th>\n",
       "      <th>Date</th>\n",
       "      <th>Primary Type</th>\n",
       "      <th>Description</th>\n",
       "      <th>Location Description</th>\n",
       "      <th>Arrest</th>\n",
       "      <th>Domestic</th>\n",
       "      <th>Beat</th>\n",
       "      <th>District</th>\n",
       "      <th>Ward</th>\n",
       "      <th>Latitude</th>\n",
       "      <th>Longitude</th>\n",
       "      <th>Datetime</th>\n",
       "    </tr>\n",
       "  </thead>\n",
       "  <tbody>\n",
       "    <tr>\n",
       "      <th>0</th>\n",
       "      <td>1326041</td>\n",
       "      <td>01/01/2001 01:00:00 AM</td>\n",
       "      <td>BATTERY</td>\n",
       "      <td>SIMPLE</td>\n",
       "      <td>RESIDENCE</td>\n",
       "      <td>False</td>\n",
       "      <td>False</td>\n",
       "      <td>1624</td>\n",
       "      <td>16.0</td>\n",
       "      <td>NaN</td>\n",
       "      <td>41.957850</td>\n",
       "      <td>-87.749185</td>\n",
       "      <td>2001-01-01 01:00:00</td>\n",
       "    </tr>\n",
       "    <tr>\n",
       "      <th>29</th>\n",
       "      <td>1317937</td>\n",
       "      <td>01/01/2001 01:00:00 AM</td>\n",
       "      <td>BATTERY</td>\n",
       "      <td>SIMPLE</td>\n",
       "      <td>RESIDENCE PORCH/HALLWAY</td>\n",
       "      <td>False</td>\n",
       "      <td>False</td>\n",
       "      <td>334</td>\n",
       "      <td>3.0</td>\n",
       "      <td>NaN</td>\n",
       "      <td>41.762514</td>\n",
       "      <td>-87.565877</td>\n",
       "      <td>2001-01-01 01:00:00</td>\n",
       "    </tr>\n",
       "    <tr>\n",
       "      <th>31</th>\n",
       "      <td>1310824</td>\n",
       "      <td>01/01/2001 01:00:00 AM</td>\n",
       "      <td>THEFT</td>\n",
       "      <td>$500 AND UNDER</td>\n",
       "      <td>BAR OR TAVERN</td>\n",
       "      <td>False</td>\n",
       "      <td>False</td>\n",
       "      <td>323</td>\n",
       "      <td>3.0</td>\n",
       "      <td>NaN</td>\n",
       "      <td>41.765484</td>\n",
       "      <td>-87.621836</td>\n",
       "      <td>2001-01-01 01:00:00</td>\n",
       "    </tr>\n",
       "    <tr>\n",
       "      <th>32</th>\n",
       "      <td>1313086</td>\n",
       "      <td>01/01/2001 01:00:00 PM</td>\n",
       "      <td>THEFT</td>\n",
       "      <td>OVER $500</td>\n",
       "      <td>OTHER</td>\n",
       "      <td>False</td>\n",
       "      <td>False</td>\n",
       "      <td>1732</td>\n",
       "      <td>17.0</td>\n",
       "      <td>NaN</td>\n",
       "      <td>41.953070</td>\n",
       "      <td>-87.716716</td>\n",
       "      <td>2001-01-01 01:00:00</td>\n",
       "    </tr>\n",
       "    <tr>\n",
       "      <th>33</th>\n",
       "      <td>1310858</td>\n",
       "      <td>01/01/2001 01:00:00 PM</td>\n",
       "      <td>OTHER OFFENSE</td>\n",
       "      <td>TELEPHONE THREAT</td>\n",
       "      <td>RESIDENCE</td>\n",
       "      <td>False</td>\n",
       "      <td>False</td>\n",
       "      <td>1724</td>\n",
       "      <td>17.0</td>\n",
       "      <td>NaN</td>\n",
       "      <td>41.955619</td>\n",
       "      <td>-87.708919</td>\n",
       "      <td>2001-01-01 01:00:00</td>\n",
       "    </tr>\n",
       "    <tr>\n",
       "      <th>...</th>\n",
       "      <td>...</td>\n",
       "      <td>...</td>\n",
       "      <td>...</td>\n",
       "      <td>...</td>\n",
       "      <td>...</td>\n",
       "      <td>...</td>\n",
       "      <td>...</td>\n",
       "      <td>...</td>\n",
       "      <td>...</td>\n",
       "      <td>...</td>\n",
       "      <td>...</td>\n",
       "      <td>...</td>\n",
       "      <td>...</td>\n",
       "    </tr>\n",
       "    <tr>\n",
       "      <th>238853</th>\n",
       "      <td>12938029</td>\n",
       "      <td>12/31/2022 12:50:00 PM</td>\n",
       "      <td>ASSAULT</td>\n",
       "      <td>SIMPLE</td>\n",
       "      <td>APARTMENT</td>\n",
       "      <td>False</td>\n",
       "      <td>False</td>\n",
       "      <td>1014</td>\n",
       "      <td>10.0</td>\n",
       "      <td>24.0</td>\n",
       "      <td>41.855911</td>\n",
       "      <td>-87.719966</td>\n",
       "      <td>2022-12-31 12:50:00</td>\n",
       "    </tr>\n",
       "    <tr>\n",
       "      <th>238854</th>\n",
       "      <td>12937822</td>\n",
       "      <td>12/31/2022 12:50:00 PM</td>\n",
       "      <td>ASSAULT</td>\n",
       "      <td>AGGRAVATED - HANDGUN</td>\n",
       "      <td>APARTMENT</td>\n",
       "      <td>False</td>\n",
       "      <td>True</td>\n",
       "      <td>733</td>\n",
       "      <td>7.0</td>\n",
       "      <td>6.0</td>\n",
       "      <td>41.766546</td>\n",
       "      <td>-87.645669</td>\n",
       "      <td>2022-12-31 12:50:00</td>\n",
       "    </tr>\n",
       "    <tr>\n",
       "      <th>238855</th>\n",
       "      <td>12937583</td>\n",
       "      <td>12/31/2022 12:52:00 AM</td>\n",
       "      <td>BATTERY</td>\n",
       "      <td>SIMPLE</td>\n",
       "      <td>BARBERSHOP</td>\n",
       "      <td>False</td>\n",
       "      <td>False</td>\n",
       "      <td>1135</td>\n",
       "      <td>11.0</td>\n",
       "      <td>28.0</td>\n",
       "      <td>41.868829</td>\n",
       "      <td>-87.686098</td>\n",
       "      <td>2022-12-31 12:52:00</td>\n",
       "    </tr>\n",
       "    <tr>\n",
       "      <th>238856</th>\n",
       "      <td>12938420</td>\n",
       "      <td>12/31/2022 12:52:00 PM</td>\n",
       "      <td>ASSAULT</td>\n",
       "      <td>SIMPLE</td>\n",
       "      <td>COMMERCIAL / BUSINESS OFFICE</td>\n",
       "      <td>False</td>\n",
       "      <td>False</td>\n",
       "      <td>1432</td>\n",
       "      <td>14.0</td>\n",
       "      <td>32.0</td>\n",
       "      <td>41.930693</td>\n",
       "      <td>-87.685657</td>\n",
       "      <td>2022-12-31 12:52:00</td>\n",
       "    </tr>\n",
       "    <tr>\n",
       "      <th>238857</th>\n",
       "      <td>12939906</td>\n",
       "      <td>12/31/2022 12:59:00 PM</td>\n",
       "      <td>DECEPTIVE PRACTICE</td>\n",
       "      <td>FINANCIAL IDENTITY THEFT $300 AND UNDER</td>\n",
       "      <td>RESIDENCE</td>\n",
       "      <td>False</td>\n",
       "      <td>False</td>\n",
       "      <td>1511</td>\n",
       "      <td>15.0</td>\n",
       "      <td>29.0</td>\n",
       "      <td>NaN</td>\n",
       "      <td>NaN</td>\n",
       "      <td>2022-12-31 12:59:00</td>\n",
       "    </tr>\n",
       "  </tbody>\n",
       "</table>\n",
       "<p>7713109 rows × 13 columns</p>\n",
       "</div>"
      ],
      "text/plain": [
       "              ID                    Date        Primary Type  \\\n",
       "0        1326041  01/01/2001 01:00:00 AM             BATTERY   \n",
       "29       1317937  01/01/2001 01:00:00 AM             BATTERY   \n",
       "31       1310824  01/01/2001 01:00:00 AM               THEFT   \n",
       "32       1313086  01/01/2001 01:00:00 PM               THEFT   \n",
       "33       1310858  01/01/2001 01:00:00 PM       OTHER OFFENSE   \n",
       "...          ...                     ...                 ...   \n",
       "238853  12938029  12/31/2022 12:50:00 PM             ASSAULT   \n",
       "238854  12937822  12/31/2022 12:50:00 PM             ASSAULT   \n",
       "238855  12937583  12/31/2022 12:52:00 AM             BATTERY   \n",
       "238856  12938420  12/31/2022 12:52:00 PM             ASSAULT   \n",
       "238857  12939906  12/31/2022 12:59:00 PM  DECEPTIVE PRACTICE   \n",
       "\n",
       "                                    Description          Location Description  \\\n",
       "0                                        SIMPLE                     RESIDENCE   \n",
       "29                                       SIMPLE       RESIDENCE PORCH/HALLWAY   \n",
       "31                               $500 AND UNDER                 BAR OR TAVERN   \n",
       "32                                    OVER $500                         OTHER   \n",
       "33                             TELEPHONE THREAT                     RESIDENCE   \n",
       "...                                         ...                           ...   \n",
       "238853                                   SIMPLE                     APARTMENT   \n",
       "238854                     AGGRAVATED - HANDGUN                     APARTMENT   \n",
       "238855                                   SIMPLE                    BARBERSHOP   \n",
       "238856                                   SIMPLE  COMMERCIAL / BUSINESS OFFICE   \n",
       "238857  FINANCIAL IDENTITY THEFT $300 AND UNDER                     RESIDENCE   \n",
       "\n",
       "        Arrest  Domestic  Beat  District  Ward   Latitude  Longitude  \\\n",
       "0        False     False  1624      16.0   NaN  41.957850 -87.749185   \n",
       "29       False     False   334       3.0   NaN  41.762514 -87.565877   \n",
       "31       False     False   323       3.0   NaN  41.765484 -87.621836   \n",
       "32       False     False  1732      17.0   NaN  41.953070 -87.716716   \n",
       "33       False     False  1724      17.0   NaN  41.955619 -87.708919   \n",
       "...        ...       ...   ...       ...   ...        ...        ...   \n",
       "238853   False     False  1014      10.0  24.0  41.855911 -87.719966   \n",
       "238854   False      True   733       7.0   6.0  41.766546 -87.645669   \n",
       "238855   False     False  1135      11.0  28.0  41.868829 -87.686098   \n",
       "238856   False     False  1432      14.0  32.0  41.930693 -87.685657   \n",
       "238857   False     False  1511      15.0  29.0        NaN        NaN   \n",
       "\n",
       "                  Datetime  \n",
       "0      2001-01-01 01:00:00  \n",
       "29     2001-01-01 01:00:00  \n",
       "31     2001-01-01 01:00:00  \n",
       "32     2001-01-01 01:00:00  \n",
       "33     2001-01-01 01:00:00  \n",
       "...                    ...  \n",
       "238853 2022-12-31 12:50:00  \n",
       "238854 2022-12-31 12:50:00  \n",
       "238855 2022-12-31 12:52:00  \n",
       "238856 2022-12-31 12:52:00  \n",
       "238857 2022-12-31 12:59:00  \n",
       "\n",
       "[7713109 rows x 13 columns]"
      ]
     },
     "execution_count": 5,
     "metadata": {},
     "output_type": "execute_result"
    }
   ],
   "source": [
    "#Set format for datetime and change dtype\n",
    "date_format = \"%m/%d/%Y %H:%M:%S %p\"\n",
    "\n",
    "dff['Datetime'] = pd.to_datetime(df['Date'], format=date_format)\n",
    "dff = dff.sort_values('Datetime')\n",
    "dff"
   ]
  },
  {
   "cell_type": "code",
   "execution_count": 11,
   "id": "c7173b91-b501-4dd3-a892-02d298de669d",
   "metadata": {},
   "outputs": [
    {
     "name": "stdout",
     "output_type": "stream",
     "text": [
      "<class 'pandas.core.frame.DataFrame'>\n",
      "DatetimeIndex: 7713109 entries, 2001-01-01 01:00:00 to 2022-12-31 12:59:00\n",
      "Data columns (total 11 columns):\n",
      " #   Column                Dtype  \n",
      "---  ------                -----  \n",
      " 0   ID                    int64  \n",
      " 1   Primary Type          object \n",
      " 2   Description           object \n",
      " 3   Location Description  object \n",
      " 4   Arrest                bool   \n",
      " 5   Domestic              bool   \n",
      " 6   Beat                  int64  \n",
      " 7   District              float64\n",
      " 8   Ward                  float64\n",
      " 9   Latitude              float64\n",
      " 10  Longitude             float64\n",
      "dtypes: bool(2), float64(4), int64(2), object(3)\n",
      "memory usage: 603.2+ MB\n"
     ]
    }
   ],
   "source": [
    "#Set index column to datetime\n",
    "dff=dff.set_index('Datetime')\n",
    "dff.info()"
   ]
  },
  {
   "cell_type": "code",
   "execution_count": 12,
   "id": "375846bc-964a-405a-ba18-d8e6ddec09bf",
   "metadata": {},
   "outputs": [
    {
     "data": {
      "text/plain": [
       "ID                           0\n",
       "Primary Type                 0\n",
       "Description                  0\n",
       "Location Description     10928\n",
       "Arrest                       0\n",
       "Domestic                     0\n",
       "Beat                         0\n",
       "District                    47\n",
       "Ward                    614846\n",
       "Latitude                 88685\n",
       "Longitude                88685\n",
       "dtype: int64"
      ]
     },
     "execution_count": 12,
     "metadata": {},
     "output_type": "execute_result"
    }
   ],
   "source": [
    "#Check for null values\n",
    "dff.isna().sum()"
   ]
  },
  {
   "cell_type": "markdown",
   "id": "c70c8b4d-98c5-4b84-9e6e-ea0eed03a144",
   "metadata": {},
   "source": [
    "## Comparing Crimes Across the Years"
   ]
  },
  {
   "cell_type": "markdown",
   "id": "c94a64ca-65f2-4391-91bd-9636dbe16802",
   "metadata": {},
   "source": [
    "- isolate columns for years\n",
    "- .count for total number of crimes\n",
    "- make a visualiztion of the crimes\n",
    "                 "
   ]
  },
  {
   "cell_type": "code",
   "execution_count": null,
   "id": "4793264d-6b2d-40c0-9a41-9b1efb2acd2c",
   "metadata": {},
   "outputs": [],
   "source": []
  },
  {
   "cell_type": "code",
   "execution_count": 18,
   "id": "da8d1aa1-220a-4022-a595-8946d56793e0",
   "metadata": {
    "scrolled": true
   },
   "outputs": [
    {
     "data": {
      "text/plain": [
       "<Axes: >"
      ]
     },
     "execution_count": 18,
     "metadata": {},
     "output_type": "execute_result"
    },
    {
     "data": {
      "image/png": "[encoded data removed]",
      "text/plain": [
       "<Figure size 640x480 with 1 Axes>"
      ]
     },
     "metadata": {},
     "output_type": "display_data"
    }
   ],
   "source": [
    "df_years = dff.index.year\n",
    "df_years.value_counts().sort_index().plot(kind='bar');"
   ]
  },
  {
   "cell_type": "markdown",
   "id": "ff05131f-3bc8-49de-9701-b67616a07d8f",
   "metadata": {},
   "source": [
    "#### Is the total number of crimes increasing/decreasing across the years?\n",
    "***Overall the total number of crimes is decreasing across the years***\n",
    "\n"
   ]
  },
  {
   "cell_type": "markdown",
   "id": "fa0689a4-9fb7-4789-8e3d-bc14888883ca",
   "metadata": {},
   "source": [
    "#### Are there any individual crimes that are doing the opposite?"
   ]
  },
  {
   "cell_type": "code",
   "execution_count": 23,
   "id": "fe448e5b-ee44-40fd-b8cd-432d1b66ae08",
   "metadata": {},
   "outputs": [
    {
     "name": "stdout",
     "output_type": "stream",
     "text": [
      "<class 'pandas.core.frame.DataFrame'>\n",
      "Int64Index: 7713109 entries, 0 to 238857\n",
      "Data columns (total 2 columns):\n",
      " #   Column        Dtype \n",
      "---  ------        ----- \n",
      " 0   Date          object\n",
      " 1   Primary Type  object\n",
      "dtypes: object(2)\n",
      "memory usage: 176.5+ MB\n"
     ]
    }
   ],
   "source": [
    "#Drop columns not used in this analysis\n",
    "drop_cols = ['ID', 'Description', 'Location Description', 'Domestic', 'Arrest', 'Beat','Latitude', 'Longitude', 'District', 'Ward']\n",
    "crimes = df.drop(columns=drop_cols)\n",
    "crimes.info()"
   ]
  },
  {
   "cell_type": "code",
   "execution_count": 24,
   "id": "b90217b9-88e3-4a5b-8428-bdc3a012eeac",
   "metadata": {},
   "outputs": [
    {
     "data": {
      "text/plain": [
       "Date            3172250\n",
       "Primary Type         36\n",
       "dtype: int64"
      ]
     },
     "execution_count": 24,
     "metadata": {},
     "output_type": "execute_result"
    }
   ],
   "source": [
    "crimes.nunique()"
   ]
  },
  {
   "cell_type": "code",
   "execution_count": 25,
   "id": "2903f9c2-e3f8-4795-819d-9ef6512b6f04",
   "metadata": {},
   "outputs": [],
   "source": [
    "#Set format for datetime and change dtype\n",
    "date_format = \"%m/%d/%Y %H:%M:%S %p\"\n",
    "\n",
    "crimes['Datetime'] = pd.to_datetime(df['Date'], format=date_format)\n",
    "crimes = crimes.sort_values('Datetime')"
   ]
  },
  {
   "cell_type": "code",
   "execution_count": 26,
   "id": "2deda008-54a4-4f5d-ace0-05783f681786",
   "metadata": {},
   "outputs": [],
   "source": [
    "crimes_si= crimes.set_index('Datetime')"
   ]
  },
  {
   "cell_type": "code",
   "execution_count": 27,
   "id": "2245c6b0-7c5e-4d78-a379-0b14d164d5c1",
   "metadata": {},
   "outputs": [
    {
     "data": {
      "text/html": [
       "<div>\n",
       "<style scoped>\n",
       "    .dataframe tbody tr th:only-of-type {\n",
       "        vertical-align: middle;\n",
       "    }\n",
       "\n",
       "    .dataframe tbody tr th {\n",
       "        vertical-align: top;\n",
       "    }\n",
       "\n",
       "    .dataframe thead th {\n",
       "        text-align: right;\n",
       "    }\n",
       "</style>\n",
       "<table border=\"1\" class=\"dataframe\">\n",
       "  <thead>\n",
       "    <tr style=\"text-align: right;\">\n",
       "      <th></th>\n",
       "      <th></th>\n",
       "      <th>Date</th>\n",
       "      <th>Primary Type</th>\n",
       "    </tr>\n",
       "    <tr>\n",
       "      <th>Primary Type</th>\n",
       "      <th>Datetime</th>\n",
       "      <th></th>\n",
       "      <th></th>\n",
       "    </tr>\n",
       "  </thead>\n",
       "  <tbody>\n",
       "    <tr>\n",
       "      <th rowspan=\"5\" valign=\"top\">ARSON</th>\n",
       "      <th>2001-12-31</th>\n",
       "      <td>01/03/2001 10:29:44 PM01/04/2001 06:30:00 PM01...</td>\n",
       "      <td>ARSONARSONARSONARSONARSONARSONARSONARSONARSONA...</td>\n",
       "    </tr>\n",
       "    <tr>\n",
       "      <th>2002-12-31</th>\n",
       "      <td>01/01/2002 01:00:00 AM01/01/2002 03:53:00 PM01...</td>\n",
       "      <td>ARSONARSONARSONARSONARSONARSONARSONARSONARSONA...</td>\n",
       "    </tr>\n",
       "    <tr>\n",
       "      <th>2003-12-31</th>\n",
       "      <td>01/01/2003 01:27:41 AM01/01/2003 05:55:48 AM01...</td>\n",
       "      <td>ARSONARSONARSONARSONARSONARSONARSONARSONARSONA...</td>\n",
       "    </tr>\n",
       "    <tr>\n",
       "      <th>2004-12-31</th>\n",
       "      <td>01/01/2004 03:38:00 AM01/01/2004 05:30:00 PM01...</td>\n",
       "      <td>ARSONARSONARSONARSONARSONARSONARSONARSONARSONA...</td>\n",
       "    </tr>\n",
       "    <tr>\n",
       "      <th>2005-12-31</th>\n",
       "      <td>01/01/2005 12:00:10 PM01/01/2005 12:15:00 AM01...</td>\n",
       "      <td>ARSONARSONARSONARSONARSONARSONARSONARSONARSONA...</td>\n",
       "    </tr>\n",
       "    <tr>\n",
       "      <th>...</th>\n",
       "      <th>...</th>\n",
       "      <td>...</td>\n",
       "      <td>...</td>\n",
       "    </tr>\n",
       "    <tr>\n",
       "      <th rowspan=\"5\" valign=\"top\">WEAPONS VIOLATION</th>\n",
       "      <th>2018-12-31</th>\n",
       "      <td>01/01/2018 01:10:00 AM01/01/2018 01:17:00 AM01...</td>\n",
       "      <td>WEAPONS VIOLATIONWEAPONS VIOLATIONWEAPONS VIOL...</td>\n",
       "    </tr>\n",
       "    <tr>\n",
       "      <th>2019-12-31</th>\n",
       "      <td>01/01/2019 01:03:00 AM01/01/2019 01:08:00 PM01...</td>\n",
       "      <td>WEAPONS VIOLATIONWEAPONS VIOLATIONWEAPONS VIOL...</td>\n",
       "    </tr>\n",
       "    <tr>\n",
       "      <th>2020-12-31</th>\n",
       "      <td>01/01/2020 01:05:00 AM01/01/2020 01:07:00 AM01...</td>\n",
       "      <td>WEAPONS VIOLATIONWEAPONS VIOLATIONWEAPONS VIOL...</td>\n",
       "    </tr>\n",
       "    <tr>\n",
       "      <th>2021-12-31</th>\n",
       "      <td>01/01/2021 01:00:00 AM01/01/2021 01:04:00 AM01...</td>\n",
       "      <td>WEAPONS VIOLATIONWEAPONS VIOLATIONWEAPONS VIOL...</td>\n",
       "    </tr>\n",
       "    <tr>\n",
       "      <th>2022-12-31</th>\n",
       "      <td>01/01/2022 01:12:00 PM01/01/2022 01:20:00 AM01...</td>\n",
       "      <td>WEAPONS VIOLATIONWEAPONS VIOLATIONWEAPONS VIOL...</td>\n",
       "    </tr>\n",
       "  </tbody>\n",
       "</table>\n",
       "<p>723 rows × 2 columns</p>\n",
       "</div>"
      ],
      "text/plain": [
       "                                                                           Date  \\\n",
       "Primary Type      Datetime                                                        \n",
       "ARSON             2001-12-31  01/03/2001 10:29:44 PM01/04/2001 06:30:00 PM01...   \n",
       "                  2002-12-31  01/01/2002 01:00:00 AM01/01/2002 03:53:00 PM01...   \n",
       "                  2003-12-31  01/01/2003 01:27:41 AM01/01/2003 05:55:48 AM01...   \n",
       "                  2004-12-31  01/01/2004 03:38:00 AM01/01/2004 05:30:00 PM01...   \n",
       "                  2005-12-31  01/01/2005 12:00:10 PM01/01/2005 12:15:00 AM01...   \n",
       "...                                                                         ...   \n",
       "WEAPONS VIOLATION 2018-12-31  01/01/2018 01:10:00 AM01/01/2018 01:17:00 AM01...   \n",
       "                  2019-12-31  01/01/2019 01:03:00 AM01/01/2019 01:08:00 PM01...   \n",
       "                  2020-12-31  01/01/2020 01:05:00 AM01/01/2020 01:07:00 AM01...   \n",
       "                  2021-12-31  01/01/2021 01:00:00 AM01/01/2021 01:04:00 AM01...   \n",
       "                  2022-12-31  01/01/2022 01:12:00 PM01/01/2022 01:20:00 AM01...   \n",
       "\n",
       "                                                                   Primary Type  \n",
       "Primary Type      Datetime                                                       \n",
       "ARSON             2001-12-31  ARSONARSONARSONARSONARSONARSONARSONARSONARSONA...  \n",
       "                  2002-12-31  ARSONARSONARSONARSONARSONARSONARSONARSONARSONA...  \n",
       "                  2003-12-31  ARSONARSONARSONARSONARSONARSONARSONARSONARSONA...  \n",
       "                  2004-12-31  ARSONARSONARSONARSONARSONARSONARSONARSONARSONA...  \n",
       "                  2005-12-31  ARSONARSONARSONARSONARSONARSONARSONARSONARSONA...  \n",
       "...                                                                         ...  \n",
       "WEAPONS VIOLATION 2018-12-31  WEAPONS VIOLATIONWEAPONS VIOLATIONWEAPONS VIOL...  \n",
       "                  2019-12-31  WEAPONS VIOLATIONWEAPONS VIOLATIONWEAPONS VIOL...  \n",
       "                  2020-12-31  WEAPONS VIOLATIONWEAPONS VIOLATIONWEAPONS VIOL...  \n",
       "                  2021-12-31  WEAPONS VIOLATIONWEAPONS VIOLATIONWEAPONS VIOL...  \n",
       "                  2022-12-31  WEAPONS VIOLATIONWEAPONS VIOLATIONWEAPONS VIOL...  \n",
       "\n",
       "[723 rows x 2 columns]"
      ]
     },
     "execution_count": 27,
     "metadata": {},
     "output_type": "execute_result"
    }
   ],
   "source": [
    "#Inspect the value_counts for differnt types of crimes\n",
    "ccounts= crimes_si.groupby('Primary Type').resample('Y').sum(numeric_only=False)\n",
    "ccounts"
   ]
  },
  {
   "cell_type": "code",
   "execution_count": 28,
   "id": "1b1a1380-e2c0-4856-a322-3167186f1157",
   "metadata": {
    "scrolled": true
   },
   "outputs": [
    {
     "ename": "ValueError",
     "evalue": "The truth value of a DataFrame is ambiguous. Use a.empty, a.bool(), a.item(), a.any() or a.all().",
     "output_type": "error",
     "traceback": [
      "\u001b[1;31m---------------------------------------------------------------------------\u001b[0m",
      "\u001b[1;31mValueError\u001b[0m                                Traceback (most recent call last)",
      "\u001b[1;32m~\\AppData\\Local\\Temp\\ipykernel_24692\\3238387474.py\u001b[0m in \u001b[0;36m?\u001b[1;34m()\u001b[0m\n\u001b[0;32m      1\u001b[0m \u001b[1;31m##Create a visualization ofcrime data\u001b[0m\u001b[1;33m\u001b[0m\u001b[1;33m\u001b[0m\u001b[0m\n\u001b[0;32m      2\u001b[0m \u001b[0mx\u001b[0m\u001b[1;33m=\u001b[0m\u001b[1;33m[\u001b[0m\u001b[1;34m'Years'\u001b[0m\u001b[1;33m]\u001b[0m\u001b[1;33m\u001b[0m\u001b[1;33m\u001b[0m\u001b[0m\n\u001b[0;32m      3\u001b[0m \u001b[0my\u001b[0m\u001b[1;33m=\u001b[0m\u001b[1;33m[\u001b[0m\u001b[1;34m'Primary Type'\u001b[0m\u001b[1;33m]\u001b[0m\u001b[1;33m\u001b[0m\u001b[1;33m\u001b[0m\u001b[0m\n\u001b[1;32m----> 4\u001b[1;33m \u001b[0mccounts\u001b[0m\u001b[1;33m.\u001b[0m\u001b[0mplot\u001b[0m\u001b[1;33m(\u001b[0m\u001b[0mccounts\u001b[0m\u001b[1;33m,\u001b[0m \u001b[0mx\u001b[0m\u001b[1;33m,\u001b[0m \u001b[0my\u001b[0m\u001b[1;33m,\u001b[0m\u001b[0mkind\u001b[0m\u001b[1;33m=\u001b[0m\u001b[1;34m'barh'\u001b[0m\u001b[1;33m,\u001b[0m \u001b[0mstacked\u001b[0m\u001b[1;33m=\u001b[0m\u001b[1;32mTrue\u001b[0m\u001b[1;33m)\u001b[0m\u001b[1;33m\u001b[0m\u001b[1;33m\u001b[0m\u001b[0m\n\u001b[0m\u001b[0;32m      5\u001b[0m \u001b[0mplt\u001b[0m\u001b[1;33m.\u001b[0m\u001b[0mtitle\u001b[0m\u001b[1;33m(\u001b[0m\u001b[1;34m'Total Number of Crimes per Year'\u001b[0m\u001b[1;33m)\u001b[0m\u001b[1;33m\u001b[0m\u001b[1;33m\u001b[0m\u001b[0m\n\u001b[0;32m      6\u001b[0m \u001b[0mplt\u001b[0m\u001b[1;33m.\u001b[0m\u001b[0mxlabel\u001b[0m\u001b[1;33m(\u001b[0m\u001b[1;34m'Number of Crimes'\u001b[0m\u001b[1;33m)\u001b[0m\u001b[1;33m\u001b[0m\u001b[1;33m\u001b[0m\u001b[0m\n\u001b[0;32m      7\u001b[0m \u001b[0mplt\u001b[0m\u001b[1;33m.\u001b[0m\u001b[0mylabel\u001b[0m\u001b[1;33m(\u001b[0m\u001b[1;34m'Years'\u001b[0m\u001b[1;33m)\u001b[0m\u001b[1;33m;\u001b[0m\u001b[1;33m\u001b[0m\u001b[1;33m\u001b[0m\u001b[0m\n",
      "\u001b[1;32m~\\anaconda3\\envs\\dojo-env\\lib\\site-packages\\pandas\\plotting\\_core.py\u001b[0m in \u001b[0;36m?\u001b[1;34m(self, *args, **kwargs)\u001b[0m\n\u001b[0;32m    919\u001b[0m     \u001b[1;32mdef\u001b[0m \u001b[0m__call__\u001b[0m\u001b[1;33m(\u001b[0m\u001b[0mself\u001b[0m\u001b[1;33m,\u001b[0m \u001b[1;33m*\u001b[0m\u001b[0margs\u001b[0m\u001b[1;33m,\u001b[0m \u001b[1;33m**\u001b[0m\u001b[0mkwargs\u001b[0m\u001b[1;33m)\u001b[0m\u001b[1;33m:\u001b[0m\u001b[1;33m\u001b[0m\u001b[1;33m\u001b[0m\u001b[0m\n\u001b[0;32m    920\u001b[0m         \u001b[0mplot_backend\u001b[0m \u001b[1;33m=\u001b[0m \u001b[0m_get_plot_backend\u001b[0m\u001b[1;33m(\u001b[0m\u001b[0mkwargs\u001b[0m\u001b[1;33m.\u001b[0m\u001b[0mpop\u001b[0m\u001b[1;33m(\u001b[0m\u001b[1;34m\"backend\"\u001b[0m\u001b[1;33m,\u001b[0m \u001b[1;32mNone\u001b[0m\u001b[1;33m)\u001b[0m\u001b[1;33m)\u001b[0m\u001b[1;33m\u001b[0m\u001b[1;33m\u001b[0m\u001b[0m\n\u001b[0;32m    921\u001b[0m \u001b[1;33m\u001b[0m\u001b[0m\n\u001b[1;32m--> 922\u001b[1;33m         x, y, kind, kwargs = self._get_call_args(\n\u001b[0m\u001b[0;32m    923\u001b[0m             \u001b[0mplot_backend\u001b[0m\u001b[1;33m.\u001b[0m\u001b[0m__name__\u001b[0m\u001b[1;33m,\u001b[0m \u001b[0mself\u001b[0m\u001b[1;33m.\u001b[0m\u001b[0m_parent\u001b[0m\u001b[1;33m,\u001b[0m \u001b[0margs\u001b[0m\u001b[1;33m,\u001b[0m \u001b[0mkwargs\u001b[0m\u001b[1;33m\u001b[0m\u001b[1;33m\u001b[0m\u001b[0m\n\u001b[0;32m    924\u001b[0m         )\n\u001b[0;32m    925\u001b[0m \u001b[1;33m\u001b[0m\u001b[0m\n",
      "\u001b[1;32m~\\anaconda3\\envs\\dojo-env\\lib\\site-packages\\pandas\\plotting\\_core.py\u001b[0m in \u001b[0;36m?\u001b[1;34m(backend_name, data, args, kwargs)\u001b[0m\n\u001b[0;32m    882\u001b[0m                 \u001b[1;34mf\"Called plot accessor for type {type(data).__name__}, \"\u001b[0m\u001b[1;33m\u001b[0m\u001b[1;33m\u001b[0m\u001b[0m\n\u001b[0;32m    883\u001b[0m                 \u001b[1;34m\"expected Series or DataFrame\"\u001b[0m\u001b[1;33m\u001b[0m\u001b[1;33m\u001b[0m\u001b[0m\n\u001b[0;32m    884\u001b[0m             )\n\u001b[0;32m    885\u001b[0m \u001b[1;33m\u001b[0m\u001b[0m\n\u001b[1;32m--> 886\u001b[1;33m         \u001b[1;32mif\u001b[0m \u001b[1;34m\"sort_columns\"\u001b[0m \u001b[1;32min\u001b[0m \u001b[0mitertools\u001b[0m\u001b[1;33m.\u001b[0m\u001b[0mchain\u001b[0m\u001b[1;33m(\u001b[0m\u001b[0margs\u001b[0m\u001b[1;33m,\u001b[0m \u001b[0mkwargs\u001b[0m\u001b[1;33m.\u001b[0m\u001b[0mkeys\u001b[0m\u001b[1;33m(\u001b[0m\u001b[1;33m)\u001b[0m\u001b[1;33m)\u001b[0m\u001b[1;33m:\u001b[0m\u001b[1;33m\u001b[0m\u001b[1;33m\u001b[0m\u001b[0m\n\u001b[0m\u001b[0;32m    887\u001b[0m             warnings.warn(\n\u001b[0;32m    888\u001b[0m                 \u001b[1;34m\"`sort_columns` is deprecated and will be removed in a future \"\u001b[0m\u001b[1;33m\u001b[0m\u001b[1;33m\u001b[0m\u001b[0m\n\u001b[0;32m    889\u001b[0m                 \u001b[1;34m\"version.\"\u001b[0m\u001b[1;33m,\u001b[0m\u001b[1;33m\u001b[0m\u001b[1;33m\u001b[0m\u001b[0m\n",
      "\u001b[1;32m~\\anaconda3\\envs\\dojo-env\\lib\\site-packages\\pandas\\core\\generic.py\u001b[0m in \u001b[0;36m?\u001b[1;34m(self)\u001b[0m\n\u001b[0;32m   1525\u001b[0m     \u001b[1;33m@\u001b[0m\u001b[0mfinal\u001b[0m\u001b[1;33m\u001b[0m\u001b[1;33m\u001b[0m\u001b[0m\n\u001b[0;32m   1526\u001b[0m     \u001b[1;32mdef\u001b[0m \u001b[0m__nonzero__\u001b[0m\u001b[1;33m(\u001b[0m\u001b[0mself\u001b[0m\u001b[1;33m)\u001b[0m \u001b[1;33m->\u001b[0m \u001b[0mNoReturn\u001b[0m\u001b[1;33m:\u001b[0m\u001b[1;33m\u001b[0m\u001b[1;33m\u001b[0m\u001b[0m\n\u001b[1;32m-> 1527\u001b[1;33m         raise ValueError(\n\u001b[0m\u001b[0;32m   1528\u001b[0m             \u001b[1;34mf\"The truth value of a {type(self).__name__} is ambiguous. \"\u001b[0m\u001b[1;33m\u001b[0m\u001b[1;33m\u001b[0m\u001b[0m\n\u001b[0;32m   1529\u001b[0m             \u001b[1;34m\"Use a.empty, a.bool(), a.item(), a.any() or a.all().\"\u001b[0m\u001b[1;33m\u001b[0m\u001b[1;33m\u001b[0m\u001b[0m\n\u001b[0;32m   1530\u001b[0m         )\n",
      "\u001b[1;31mValueError\u001b[0m: The truth value of a DataFrame is ambiguous. Use a.empty, a.bool(), a.item(), a.any() or a.all()."
     ]
    }
   ],
   "source": [
    "##Create a visualization ofcrime data\n",
    "x=['Years']\n",
    "y=['Primary Type']\n",
    "ccounts.plot(ccounts, x, y,kind='barh', stacked=True)\n",
    "plt.title('Total Number of Crimes per Year')\n",
    "plt.xlabel('Number of Crimes')\n",
    "plt.ylabel('Years');"
   ]
  },
  {
   "cell_type": "code",
   "execution_count": null,
   "id": "43addd8c-dd31-4cbd-a516-38e2095b1daf",
   "metadata": {},
   "outputs": [],
   "source": []
  },
  {
   "cell_type": "code",
   "execution_count": null,
   "id": "c90851ce-b4c0-41e7-882f-91a63726133e",
   "metadata": {},
   "outputs": [],
   "source": []
  },
  {
   "cell_type": "code",
   "execution_count": null,
   "id": "898a6460-1a5f-4ac8-add7-6ac65f4ddee2",
   "metadata": {},
   "outputs": [],
   "source": [
    "## Comparing Holidays"
   ]
  },
  {
   "cell_type": "code",
   "execution_count": null,
   "id": "f1f8fe94-5b2e-4119-9558-f6c7dc8ce96e",
   "metadata": {},
   "outputs": [],
   "source": [
    "#make a date range that covers the full dataset\n",
    "all_days = pd.date_rande(df['Date'].min(), df['Date'].max))\n",
    "all_days"
   ]
  },
  {
   "cell_type": "code",
   "execution_count": null,
   "id": "3fd4cfda-ff4d-4522-924c-1a557782554e",
   "metadata": {},
   "outputs": [],
   "source": [
    "#create an instance of the US only holidays\n",
    "us_holidays = country_holidays('US')\n"
   ]
  },
  {
   "cell_type": "code",
   "execution_count": null,
   "id": "559ba51f-6e5f-46e0-9854-6893e1b46fd9",
   "metadata": {},
   "outputs": [],
   "source": [
    "#Get a list of all holidays\n",
    "holidays = [us_holidays.get(day) for day in all_days]\n",
    "holidays[:5]\n",
    "            "
   ]
  },
  {
   "cell_type": "code",
   "execution_count": null,
   "id": "bb91ff07-8f3b-4d71-93d4-4009dc79192c",
   "metadata": {},
   "outputs": [],
   "source": [
    "df['US Holidays']=[holidays.get(day) for day in df['Date']]\n",
    "df['US Holidays'].value_counts()"
   ]
  },
  {
   "cell_type": "code",
   "execution_count": null,
   "id": "1d429bed-d777-4737-9d91-77db20eef4d3",
   "metadata": {},
   "outputs": [],
   "source": [
    "## Save a binary is holiday feature\n",
    "df['Is_Holiday'] = df['US Holiday'].notna()\n",
    "df['Is_Holiday'].value_counts()"
   ]
  },
  {
   "cell_type": "code",
   "execution_count": null,
   "id": "aef64589-28b1-4153-b661-ad90d584b79b",
   "metadata": {},
   "outputs": [],
   "source": []
  },
  {
   "cell_type": "code",
   "execution_count": null,
   "id": "e7d3fe0d-f3d1-44df-9e90-49fe47f290bc",
   "metadata": {},
   "outputs": [],
   "source": []
  },
  {
   "cell_type": "code",
   "execution_count": null,
   "id": "eb08860d-64f6-44a6-97a3-20214dbda38a",
   "metadata": {},
   "outputs": [],
   "source": [
    "#### What are the top 3 holidays with the largest number of crimes?"
   ]
  },
  {
   "cell_type": "code",
   "execution_count": null,
   "id": "1a7e276c-1ff4-4e55-b3f6-8c21ffed1eb1",
   "metadata": {},
   "outputs": [],
   "source": []
  },
  {
   "cell_type": "code",
   "execution_count": null,
   "id": "6f684f19-abee-4cd9-b1d7-182701e0a1f2",
   "metadata": {},
   "outputs": [],
   "source": []
  },
  {
   "cell_type": "code",
   "execution_count": null,
   "id": "af3102e7-2973-4e73-9573-54abb2c7f5e2",
   "metadata": {},
   "outputs": [],
   "source": []
  },
  {
   "cell_type": "code",
   "execution_count": null,
   "id": "0bee2965-5ef6-472a-9d1e-fd66409fc9a3",
   "metadata": {},
   "outputs": [],
   "source": []
  },
  {
   "cell_type": "code",
   "execution_count": null,
   "id": "efc5f447-413b-4223-9f2b-6e0f2cb27c2a",
   "metadata": {},
   "outputs": [],
   "source": []
  },
  {
   "cell_type": "code",
   "execution_count": null,
   "id": "4efced5b-b6b2-416e-8411-671cbf33e9e9",
   "metadata": {},
   "outputs": [],
   "source": [
    "#### For each of the top 3 holidays with the most crime, \n",
    "#### what are the top 5 most common crimes on that holiday?"
   ]
  },
  {
   "cell_type": "code",
   "execution_count": null,
   "id": "48139ea1-c025-4205-9240-0f29675b1571",
   "metadata": {},
   "outputs": [],
   "source": []
  },
  {
   "cell_type": "code",
   "execution_count": null,
   "id": "7205e4f4-69cf-4d43-bb4b-71f747b723b2",
   "metadata": {},
   "outputs": [],
   "source": []
  },
  {
   "cell_type": "code",
   "execution_count": null,
   "id": "a20a3025-c932-4ce4-b92f-e528483fe2bb",
   "metadata": {},
   "outputs": [],
   "source": []
  }
 ],
 "metadata": {
  "kernelspec": {
   "display_name": "Python (dojo-env)",
   "language": "python",
   "name": "dojo-env"
  },
  "language_info": {
   "codemirror_mode": {
    "name": "ipython",
    "version": 3
   },
   "file_extension": ".py",
   "mimetype": "text/x-python",
   "name": "python",
   "nbconvert_exporter": "python",
   "pygments_lexer": "ipython3",
   "version": "3.10.10"
  },
  "widgets": {
   "application/vnd.jupyter.widget-state+json": {
    "state": {},
    "version_major": 2,
    "version_minor": 0
   }
  }
 },
 "nbformat": 4,
 "nbformat_minor": 5
}
